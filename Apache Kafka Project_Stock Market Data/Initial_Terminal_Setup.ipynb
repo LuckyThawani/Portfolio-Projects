{
  "nbformat": 4,
  "nbformat_minor": 0,
  "metadata": {
    "colab": {
      "provenance": []
    },
    "kernelspec": {
      "name": "python3",
      "display_name": "Python 3"
    },
    "language_info": {
      "name": "python"
    }
  },
  "cells": [
    {
      "cell_type": "code",
      "execution_count": null,
      "metadata": {
        "id": "Lfwq-RsYFdJG"
      },
      "outputs": [],
      "source": [
        "# Step 1: Download and extract Kafka on EC2 Machine\n",
        "wget https://downloads.apache.org/kafka/3.6.1/kafka_2.13-3.6.1.tgz\n",
        "tar -xvf kafka_2.13-3.6.1.tgz\n",
        "cd kafka_2.13-3.6.1\n",
        "\n",
        "# Step 2: Check if Java is installed\n",
        "java -version\n",
        "\n",
        "# Step 3: Install Java (Amazon Linux 2023)\n",
        "sudo dnf install -y java-17-amazon-corretto\n",
        "\n",
        "# Step 4: Verify Java installation\n",
        "java -version\n",
        "\n",
        "# Step 5: Update Kafka server config to allow external connections (Public IP)\n",
        "sudo nano config/server.properties\n",
        "# Change the following lines in `server.properties`:\n",
        "# listeners=PLAINTEXT://0.0.0.0:9092\n",
        "# advertised.listeners=PLAINTEXT://<YOUR_PUBLIC_IP>:9092\n",
        "\n",
        "# Step 6: Increase Kafka memory allocation \n",
        "export KAFKA_HEAP_OPTS=\"-Xmx512M -Xms256M\"\n",
        "\n",
        "# Step 7: Start Zookeeper (in a new terminal)\n",
        "cd kafka_2.13-3.6.1\n",
        "bin/zookeeper-server-start.sh config/zookeeper.properties\n",
        "\n",
        "# Step 8: Start Kafka Broker (in a new terminal)\n",
        "cd kafka_2.13-3.6.1\n",
        "bin/kafka-server-start.sh config/server.properties\n",
        "\n",
        "# Step 9: Create a Kafka topic (Replace with your IP)\n",
        "cd kafka_2.13-3.6.1\n",
        "bin/kafka-topics.sh --create --topic demo_testing2 --bootstrap-server <YOUR_PUBLIC_IP>:9092 --partitions 1 --replication-factor 1\n",
        "\n",
        "# Step 10: Start Producer (in a new terminal)\n",
        "cd kafka_2.13-3.6.1\n",
        "bin/kafka-console-producer.sh --topic demo_testing2 --bootstrap-server <YOUR_PUBLIC_IP>:9092\n",
        "\n",
        "# Step 11: Start Consumer (in a new terminal)\n",
        "cd kafka_2.13-3.6.1\n",
        "bin/kafka-console-consumer.sh --topic demo_testing2 --bootstrap-server <YOUR_PUBLIC_IP>:9092 --from-beginning\n",
        "\n",
        "# Step 12: Stop Kafka and Zookeeper when needed\n",
        "bin/kafka-server-stop.sh\n",
        "bin/zookeeper-server-stop.sh\n"
      ]
    }
  ]
}
