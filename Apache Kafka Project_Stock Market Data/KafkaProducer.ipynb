{
 "cells": [
  {
   "cell_type": "code",
   "execution_count": null,
   "id": "627d97c5",
   "metadata": {},
   "outputs": [],
   "source": [
    "# Install required package (if not installed)\n",
    "# kafka-python is required to interact with Kafka\n",
    "# Uncomment and run the below line if kafka-python is not installed\n",
    "# pip install kafka-python"
   ]
  },
  {
   "cell_type": "code",
   "execution_count": null,
   "id": "b45b8b81",
   "metadata": {},
   "outputs": [],
   "source": [
    "import pandas as pd  # For data handling\n",
    "from kafka import KafkaProducer  # KafkaProducer to send messages\n",
    "from time import sleep  # Used to add delays if needed\n",
    "from json import dumps  # Convert Python objects to JSON format\n",
    "import json  # Standard JSON handling"
   ]
  },
  {
   "cell_type": "code",
   "execution_count": null,
   "id": "f14bbe76",
   "metadata": {},
   "outputs": [],
   "source": [
    "# Initialize Kafka Producer\n",
    "producer = KafkaProducer(\n",
    "    bootstrap_servers=['13.51.45.143:9092'],  # Kafka broker address\n",
    "    value_serializer=lambda x: dumps(x).encode('utf-8')  # Serialize messages as JSON\n",
    ")"
   ]
  },
  {
   "cell_type": "code",
   "execution_count": null,
   "id": "b992f0b5",
   "metadata": {},
   "outputs": [],
   "source": [
    "# Send a test message to the Kafka topic\n",
    "test_message = {\"event\": \"Snoopdog\"}\n",
    "producer.send('demo_testing2', value=test_message)  # Sending JSON message\n",
    "print(\"Test message sent to Kafka topic 'demo_testing2'\")"
   ]
  },
  {
   "cell_type": "code",
   "execution_count": null,
   "id": "ea2f3661",
   "metadata": {},
   "outputs": [],
   "source": [
    "# Read data from a CSV file (Modify the path as per your system)\n",
    "df = pd.read_csv(\"/Users/lucky/Documents/stock_data.csv\")"
   ]
  },
  {
   "cell_type": "code",
   "execution_count": null,
   "id": "32a595a6",
   "metadata": {},
   "outputs": [],
   "source": [
    "df.head()"
   ]
  },
  {
   "cell_type": "code",
   "execution_count": null,
   "id": "11ef2eb3",
   "metadata": {},
   "outputs": [],
   "source": [
    "# Send each row of the DataFrame as a message to Kafka\n",
    "def produce_messages():\n",
    "    for _, row in df.iterrows():\n",
    "        message = row.to_dict()  # Convert row to dictionary\n",
    "        producer.send('demo_testing2', value=message)  # Send message to Kafka\n",
    "        print(f\"Sent: {message}\")  # Log the sent message\n",
    "        sleep(1)  # Introduce a delay (optional)"
   ]
  },
  {
   "cell_type": "code",
   "execution_count": null,
   "id": "ee60bb14",
   "metadata": {},
   "outputs": [],
   "source": [
    "# Start producing messages\n",
    "produce_messages()"
   ]
  },
  {
   "cell_type": "code",
   "execution_count": null,
   "id": "2e65adc5",
   "metadata": {},
   "outputs": [],
   "source": [
    "# Close the producer\n",
    "producer.close()\n",
    "print(\"Kafka Producer closed.\")"
   ]
  }
 ],
 "metadata": {
  "kernelspec": {
   "display_name": "Python 3 (ipykernel)",
   "language": "python",
   "name": "python3"
  },
  "language_info": {
   "codemirror_mode": {
    "name": "ipython",
    "version": 3
   },
   "file_extension": ".py",
   "mimetype": "text/x-python",
   "name": "python",
   "nbconvert_exporter": "python",
   "pygments_lexer": "ipython3",
   "version": "3.10.9"
  }
 },
 "nbformat": 4,
 "nbformat_minor": 5
}
