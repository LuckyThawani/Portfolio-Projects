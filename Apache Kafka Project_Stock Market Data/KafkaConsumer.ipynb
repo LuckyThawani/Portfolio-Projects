{
 "cells": [
  {
   "cell_type": "code",
   "execution_count": null,
   "id": "8b2aa60c",
   "metadata": {},
   "outputs": [],
   "source": [
    "# s3fs is required for working with S3 storage\n",
    "# Uncomment and run the below line if s3fs is not installed\n",
    "# pip install s3fs"
   ]
  },
  {
   "cell_type": "code",
   "execution_count": 1,
   "id": "313c50f7",
   "metadata": {},
   "outputs": [],
   "source": [
    "import pandas as pd  # For data handling\n",
    "from kafka import KafkaConsumer  # KafkaConsumer to consume messages\n",
    "from time import sleep  # Used to add delays if needed\n",
    "from json import loads  # Convert JSON messages into Python dictionary\n",
    "import json  # Standard JSON handling\n",
    "from s3fs import S3FileSystem  # Interact with AWS S3"
   ]
  },
  {
   "cell_type": "code",
   "execution_count": 2,
   "id": "22771f97",
   "metadata": {},
   "outputs": [],
   "source": [
    "# Initialize Kafka Consumer\n",
    "consumer = KafkaConsumer(\n",
    "    'demo_testing2',  # Kafka topic to subscribe to\n",
    "    bootstrap_servers=['13.51.45.143:9092'],  # Broker address\n",
    "    value_deserializer=lambda x: loads(x.decode('utf-8'))  # Deserialize incoming messages\n",
    ")"
   ]
  },
  {
   "cell_type": "code",
   "execution_count": null,
   "id": "76002201",
   "metadata": {},
   "outputs": [],
   "source": [
    "# Initialize connection to AWS S3\n",
    "s3 = S3FileSystem()"
   ]
  },
  {
   "cell_type": "code",
   "execution_count": 3,
   "id": "08b7eac9",
   "metadata": {},
   "outputs": [],
   "source": [
    "# Save messages from Kafka to AWS S3\n",
    "for count, i in enumerate(consumer):\n",
    "    file_path = f\"s3://kafka-stock-market-project-lucky/stock_market_{count}.json\"\n",
    "    \n",
    "    # Open file in S3 and write the data\n",
    "    with s3.open(file_path, 'w') as file:\n",
    "        json.dump(i.value, file)  # Save the message as a JSON file in S3"
   ]
  }
 ],
 "metadata": {
  "kernelspec": {
   "display_name": "Python 3 (ipykernel)",
   "language": "python",
   "name": "python3"
  },
  "language_info": {
   "codemirror_mode": {
    "name": "ipython",
    "version": 3
   },
   "file_extension": ".py",
   "mimetype": "text/x-python",
   "name": "python",
   "nbconvert_exporter": "python",
   "pygments_lexer": "ipython3",
   "version": "3.10.9"
  }
 },
 "nbformat": 4,
 "nbformat_minor": 5
}
