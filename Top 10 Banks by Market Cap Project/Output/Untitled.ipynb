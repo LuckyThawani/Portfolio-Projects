{
 "cells": [
  {
   "cell_type": "code",
   "execution_count": 41,
   "id": "bcf07267",
   "metadata": {},
   "outputs": [
    {
     "data": {
      "text/plain": [
       "136.81"
      ]
     },
     "execution_count": 41,
     "metadata": {},
     "output_type": "execute_result"
    }
   ],
   "source": [
    "import pandas as pd\n",
    "import requests\n",
    "from bs4 import BeautifulSoup\n",
    "\n",
    "marketcapdataurl = 'https://web.archive.org/web/20230908091635/https://en.wikipedia.org/wiki/List_of_largest_banks'\n",
    "\n",
    "# Get the page content\n",
    "page = requests.get(marketcapdataurl).text\n",
    "data = BeautifulSoup(page, 'html.parser')\n",
    "\n",
    "# Get the table from the webpage\n",
    "tables = data.find_all('tbody')  # Find all table bodies\n",
    "\n",
    "# Access the rows of the table\n",
    "rows = tables[1].find_all('tr')  # Get rows from the first table\n",
    "\n",
    "col = row.find_all('td')\n",
    "bank_name = col[1].find_all('a')[1]['title']\n",
    "\n",
    "market_cap = float(col[2].contents[0][:-1])\n",
    "market_cap            "
   ]
  }
 ],
 "metadata": {
  "kernelspec": {
   "display_name": "Python 3 (ipykernel)",
   "language": "python",
   "name": "python3"
  },
  "language_info": {
   "codemirror_mode": {
    "name": "ipython",
    "version": 3
   },
   "file_extension": ".py",
   "mimetype": "text/x-python",
   "name": "python",
   "nbconvert_exporter": "python",
   "pygments_lexer": "ipython3",
   "version": "3.10.9"
  }
 },
 "nbformat": 4,
 "nbformat_minor": 5
}
